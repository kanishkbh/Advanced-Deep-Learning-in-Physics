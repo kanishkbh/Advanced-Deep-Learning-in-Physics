{
 "cells": [
  {
   "cell_type": "code",
   "execution_count": 1,
   "id": "893ea6f1",
   "metadata": {},
   "outputs": [],
   "source": [
    "from phi.flow import *\n",
    "# from phi.torch.flow import *"
   ]
  },
  {
   "cell_type": "markdown",
   "id": "b7e71364",
   "metadata": {},
   "source": [
    "### Tensors in phiflow\n",
    "\n",
    "Tensors are objects that contain values.\n",
    "Every tensor can be of one of four dimension types.\n",
    "\n",
    "Constructor:\n",
    "    `tensor( data, shape )`\n",
    "    \n",
    "* `data` is [1,0,2] etc.\n",
    "* `shape`accepts a constructor of one of the four dimensions. e.g. `channel(color=3)` etc.\n",
    "\n",
    "For example:\n",
    "    `mybatch = tensor([1,0], batch(b=2))`"
   ]
  },
  {
   "cell_type": "code",
   "execution_count": 2,
   "id": "a5b74a20",
   "metadata": {},
   "outputs": [
    {
     "data": {
      "text/plain": [
       "\u001b[94m1.0\u001b[0m"
      ]
     },
     "execution_count": 2,
     "metadata": {},
     "output_type": "execute_result"
    }
   ],
   "source": [
    "tensor(1.)"
   ]
  },
  {
   "cell_type": "markdown",
   "id": "10ab879b",
   "metadata": {},
   "source": [
    "### Phi.Math algorithms - Optimisation\n",
    "\n",
    "Use \n",
    "```math.minimize( <function>, Solve('algorithm'), tolerance, tolerance, initial_guess )```"
   ]
  },
  {
   "cell_type": "code",
   "execution_count": null,
   "id": "09727937",
   "metadata": {},
   "outputs": [],
   "source": [
    "math.minimize(math.cos, Solve('BFGS', 0, 1e-5, x0=7))\n",
    "# didn't work with numpy"
   ]
  },
  {
   "cell_type": "markdown",
   "id": "ba5a48c3",
   "metadata": {},
   "source": [
    "### Showing stuff inside a tensor"
   ]
  },
  {
   "cell_type": "code",
   "execution_count": 14,
   "id": "856a6b36",
   "metadata": {},
   "outputs": [
    {
     "name": "stdout",
     "output_type": "stream",
     "text": [
      "<class 'phi.math._tensors.NativeTensor'>\n",
      "float64\n",
      "(vectorᶜ=2)\n",
      "<class 'numpy.ndarray'>\n",
      "(2,)\n"
     ]
    }
   ],
   "source": [
    "my_tensor = tensor((1.0,2))\n",
    "\n",
    "print( type(my_tensor) )\n",
    "print( my_tensor.dtype )\n",
    "print( my_tensor.shape )\n",
    "\n",
    "print( type(my_tensor.native()) )\n",
    "print( my_tensor.native().shape )"
   ]
  },
  {
   "cell_type": "markdown",
   "id": "d450b713",
   "metadata": {},
   "source": [
    "#### math.print()"
   ]
  },
  {
   "cell_type": "code",
   "execution_count": 50,
   "id": "9432eb2f",
   "metadata": {},
   "outputs": [
    {
     "name": "stdout",
     "output_type": "stream",
     "text": [
      "\u001b[92m(vectorᶜ=2)\u001b[0m\n",
      " 1., 2.\n"
     ]
    }
   ],
   "source": [
    "math.print(my_tensor)"
   ]
  },
  {
   "cell_type": "markdown",
   "id": "3ff67a2e",
   "metadata": {},
   "source": [
    "### Dimension\n",
    "Note here the name \"vector^c\". This is the name of the dimension, automatically given.\n",
    "The dimension name can be anything.\n",
    "c` means it is a *channel dimension*.\n",
    "\n",
    "#### types of dimensions:\n",
    "Imagine the representation of a picture. There's a 2d grid of pixels (Spatial), then there's the third dimension which is the RGB values (channel), \n",
    "1. `spatial`: images, grids, time series data, etc. whatever is regularly spaced.\n",
    "2. `channel`: the value stored at each point in the grid, i.e., different properties of one instance e.g. one grid cell, one particle , one pixel, etc.\n",
    "\n",
    "Spatial and channel often go together.\n",
    "\n",
    "3. `instance`: when their arrangment is unordered or not over a regular grid e.g. particles, planets, point clouds, etc.\n",
    "4. `batch`: when there is no interaction bw different instances, e.g. , running two completely independent simulations parallely\n",
    "\n",
    "Each dimension has:\n",
    "- a name\n",
    "- a type\n",
    "- a shape\n",
    "- each entry in a dimension carries a value\n",
    "- each entry can also have a name"
   ]
  },
  {
   "cell_type": "markdown",
   "id": "488211a9",
   "metadata": {},
   "source": [
    "## Creating tensors with phi.math module.\n",
    "\n",
    "math.zeros, math.random_uniform, etc. return a tensor object with values initialized as zeros, random, etc."
   ]
  },
  {
   "cell_type": "markdown",
   "id": "6586987b",
   "metadata": {},
   "source": [
    "#### Spatial dimension:\n",
    "create a 5 by 4 space, i.e., an x dimension with 5 values, and a y dimension with 4 values. \n",
    "Initialize with zeros."
   ]
  },
  {
   "cell_type": "code",
   "execution_count": 45,
   "id": "289deeb5",
   "metadata": {},
   "outputs": [
    {
     "data": {
      "text/plain": [
       "\u001b[92m(xˢ=5, yˢ=4)\u001b[0m \u001b[93mfloat32\u001b[0m const \u001b[94m0.0\u001b[0m"
      ]
     },
     "execution_count": 45,
     "metadata": {},
     "output_type": "execute_result"
    }
   ],
   "source": [
    "myspace = math.zeros(spatial(x=5, y=4))\n",
    "myspace\n",
    "# this creates two dimensions with names 'x' and 'y'"
   ]
  },
  {
   "cell_type": "code",
   "execution_count": 46,
   "id": "7f432f7d",
   "metadata": {},
   "outputs": [
    {
     "data": {
      "text/plain": [
       "(xˢ=5, yˢ=4)"
      ]
     },
     "execution_count": 46,
     "metadata": {},
     "output_type": "execute_result"
    }
   ],
   "source": [
    "myspace.shape"
   ]
  },
  {
   "cell_type": "code",
   "execution_count": 27,
   "id": "c3f27210",
   "metadata": {},
   "outputs": [
    {
     "data": {
      "text/plain": [
       "CollapsedTensor.self_x (non-existent)"
      ]
     },
     "execution_count": 27,
     "metadata": {},
     "output_type": "execute_result"
    }
   ],
   "source": [
    "# How to check native stuff under this??"
   ]
  },
  {
   "cell_type": "markdown",
   "id": "d138e8b2",
   "metadata": {},
   "source": [
    "#### Channel dimension:\n",
    "Create an object with a channel dimension containing 3 values, call it color.\n",
    "Initialize with uniformly sampled random values."
   ]
  },
  {
   "cell_type": "code",
   "execution_count": 31,
   "id": "83d12008",
   "metadata": {},
   "outputs": [
    {
     "name": "stderr",
     "output_type": "stream",
     "text": [
      "/tmp/ipykernel_20692/569277378.py:1: SyntaxWarning: Item names are highly recommended for channel dimensions. Use the syntax math.channel(color='x,y,z') to assign names or use math.stack(dict, dim)\n",
      "  color = math.random_uniform(channel(color=3))\n"
     ]
    },
    {
     "data": {
      "text/plain": [
       "(\u001b[94m0.7347800731658936\u001b[0m, \u001b[94m0.06778469681739807\u001b[0m, \u001b[94m0.9605845212936401\u001b[0m) along \u001b[92mcolorᶜ\u001b[0m"
      ]
     },
     "execution_count": 31,
     "metadata": {},
     "output_type": "execute_result"
    }
   ],
   "source": [
    "color = math.random_uniform(channel(color=3))\n",
    "color"
   ]
  },
  {
   "cell_type": "markdown",
   "id": "d4f5d113",
   "metadata": {},
   "source": [
    "Note: Channel dimension is always used for things that are physically interpretable, e.g., 'x','y','z' component of velocity, 'r','g','b' components of a color, etc.\n",
    "\n",
    "\n",
    "Same as above, But now also give names 'red', 'green', blue' to the color values (like a dictionary)."
   ]
  },
  {
   "cell_type": "code",
   "execution_count": 34,
   "id": "22fae669",
   "metadata": {},
   "outputs": [
    {
     "data": {
      "text/plain": [
       "(red=\u001b[94m0.7455126047134399\u001b[0m, green=\u001b[94m0.9123089909553528\u001b[0m, blue=\u001b[94m0.11447197943925858\u001b[0m) along \u001b[92mcolorᶜ\u001b[0m"
      ]
     },
     "execution_count": 34,
     "metadata": {},
     "output_type": "execute_result"
    }
   ],
   "source": [
    "color = math.random_uniform( channel(color='red,green,blue') )\n",
    "color"
   ]
  },
  {
   "cell_type": "markdown",
   "id": "838085d6",
   "metadata": {},
   "source": [
    "#### Instance dimension\n",
    "(for point clouds, particles, etc.)\n",
    "\n",
    "Create an instance dimension with 5 values. Call it 'points'.\n",
    "\n",
    "Initialize with normally distributed random values."
   ]
  },
  {
   "cell_type": "code",
   "execution_count": 40,
   "id": "0697e30d",
   "metadata": {},
   "outputs": [
    {
     "data": {
      "text/plain": [
       "(\u001b[94m0.38177645206451416\u001b[0m, \u001b[94m0.9065499901771545\u001b[0m, \u001b[94m0.24367524683475494\u001b[0m, \u001b[94m0.9309859871864319\u001b[0m, \u001b[94m0.58287513256073\u001b[0m) along \u001b[92mpointsⁱ\u001b[0m"
      ]
     },
     "execution_count": 40,
     "metadata": {},
     "output_type": "execute_result"
    }
   ],
   "source": [
    "point_cloud = math.random_uniform( instance(points=5) )\n",
    "point_cloud"
   ]
  },
  {
   "cell_type": "markdown",
   "id": "34c21f89",
   "metadata": {},
   "source": [
    "#### Batch dimension\n",
    "(note: batch dimension is never touched by any math operation. It is only used for parallelizing things)\n",
    "\n",
    "Create a batch dimension with two values.\n",
    "\n",
    "Initialize them as 1 and 0."
   ]
  },
  {
   "cell_type": "code",
   "execution_count": 54,
   "id": "a418aa66",
   "metadata": {},
   "outputs": [
    {
     "data": {
      "text/plain": [
       "(\u001b[94m0\u001b[0m, \u001b[94m1\u001b[0m) along \u001b[92mbᵇ\u001b[0m"
      ]
     },
     "execution_count": 54,
     "metadata": {},
     "output_type": "execute_result"
    }
   ],
   "source": [
    "mybatch = tensor([0,1], batch(b=2))\n",
    "mybatch"
   ]
  },
  {
   "cell_type": "code",
   "execution_count": 55,
   "id": "4181a56a",
   "metadata": {},
   "outputs": [
    {
     "data": {
      "text/plain": [
       "(bᵇ=2)"
      ]
     },
     "execution_count": 55,
     "metadata": {},
     "output_type": "execute_result"
    }
   ],
   "source": [
    "mybatch.shape"
   ]
  },
  {
   "cell_type": "markdown",
   "id": "567c4b56",
   "metadata": {},
   "source": [
    "## Meshgrid\n",
    "creates a tensor with *rows by cols* `spatial` containing a *size=2* `channel`. Data contained is all possible indices to refer to earch row/col"
   ]
  },
  {
   "cell_type": "code",
   "execution_count": 56,
   "id": "3cbf43fa",
   "metadata": {},
   "outputs": [
    {
     "data": {
      "text/plain": [
       "\u001b[92m(xˢ=6, yˢ=2, vectorᶜ=x,y)\u001b[0m \u001b[93mint64\u001b[0m  \u001b[94m1.500 ± 1.607\u001b[0m \u001b[37m(0e+00...5e+00)\u001b[0m"
      ]
     },
     "execution_count": 56,
     "metadata": {},
     "output_type": "execute_result"
    }
   ],
   "source": [
    "mygrid = math.meshgrid(x=6, y=2)\n",
    "mygrid"
   ]
  },
  {
   "cell_type": "code",
   "execution_count": 57,
   "id": "3c8888ec",
   "metadata": {},
   "outputs": [
    {
     "name": "stdout",
     "output_type": "stream",
     "text": [
      "---\u001b[92m vector=x \u001b[0m---\n",
      " 0, 1, 2, 3, 4, 5\n",
      " 0, 1, 2, 3, 4, 5\n",
      "---\u001b[92m vector=y \u001b[0m---\n",
      " 1, 1, 1, 1, 1, 1\n",
      " 0, 0, 0, 0, 0, 0\n"
     ]
    }
   ],
   "source": [
    "math.print(mygrid)"
   ]
  },
  {
   "cell_type": "markdown",
   "id": "935fd71a",
   "metadata": {},
   "source": [
    "### mesh and batch multiplication\n",
    "Here the every value of batch is multiplied with every value inside the grid tensor.\n",
    "i.e., a new dimension is added in the product. (meshgrid was 3D and batch was 1D. Product becomes 4D)"
   ]
  },
  {
   "cell_type": "code",
   "execution_count": 64,
   "id": "d0005ed7",
   "metadata": {},
   "outputs": [
    {
     "name": "stdout",
     "output_type": "stream",
     "text": [
      "\u001b[92m(bᵇ=2, xˢ=6, yˢ=2, vectorᶜ=x,y)\u001b[0m \u001b[93mint64\u001b[0m  \u001b[94m0.750 ± 1.362\u001b[0m \u001b[37m(0e+00...5e+00)\u001b[0m\n"
     ]
    }
   ],
   "source": [
    "product = mygrid * mybatch\n",
    "print(product)"
   ]
  },
  {
   "cell_type": "markdown",
   "id": "ec4fd0fd",
   "metadata": {},
   "source": [
    "Notice that the batch dimension is before the spatial. So this is.. two batches of two 2D-spatial grids. Where each point on the grid has a x,y vector stored."
   ]
  },
  {
   "cell_type": "code",
   "execution_count": 65,
   "id": "c431e758",
   "metadata": {},
   "outputs": [
    {
     "name": "stdout",
     "output_type": "stream",
     "text": [
      "---\u001b[92m b=0, vector=x \u001b[0m---\n",
      " 0, 0, 0, 0, 0, 0\n",
      " 0, 0, 0, 0, 0, 0\n",
      "---\u001b[92m b=0, vector=y \u001b[0m---\n",
      " 0, 0, 0, 0, 0, 0\n",
      " 0, 0, 0, 0, 0, 0\n",
      "---\u001b[92m b=1, vector=x \u001b[0m---\n",
      " 0, 1, 2, 3, 4, 5\n",
      " 0, 1, 2, 3, 4, 5\n",
      "---\u001b[92m b=1, vector=y \u001b[0m---\n",
      " 1, 1, 1, 1, 1, 1\n",
      " 0, 0, 0, 0, 0, 0\n"
     ]
    }
   ],
   "source": [
    "math.print( product )"
   ]
  },
  {
   "cell_type": "markdown",
   "id": "d5571db3",
   "metadata": {},
   "source": [
    "## Phi.Math algorithms\n",
    "(note: batch dimension is never touched by any math operation. It is only used for parallelizing things)\n",
    "\n",
    "### FFT"
   ]
  },
  {
   "cell_type": "code",
   "execution_count": 66,
   "id": "6f108acb",
   "metadata": {},
   "outputs": [
    {
     "data": {
      "text/plain": [
       "\u001b[92m(bᵇ=2, xˢ=6, yˢ=2, vectorᶜ=x,y)\u001b[0m \u001b[93mcomplex64\u001b[0m \u001b[94m|...| < 30.0\u001b[0m"
      ]
     },
     "execution_count": 66,
     "metadata": {},
     "output_type": "execute_result"
    }
   ],
   "source": [
    "math.fft(product)\n",
    "# This is a 2D spatial , so the fft is 2 dimensional"
   ]
  },
  {
   "cell_type": "markdown",
   "id": "af95f4be",
   "metadata": {},
   "source": [
    "### math.nonzero\n",
    "returns all indices where value is nonzero.\n",
    "Returns **instances**"
   ]
  },
  {
   "cell_type": "code",
   "execution_count": 67,
   "id": "930a4bab",
   "metadata": {},
   "outputs": [
    {
     "data": {
      "text/plain": [
       "(bᵇ=2, nonzeroⁱ=(\u001b[94m0\u001b[0m, \u001b[94m11\u001b[0m) along \u001b[92mbᵇ\u001b[0m, vectorᶜ=x,y), failed to fetch values: zero-size array to reduction operation minimum which has no identity"
      ]
     },
     "execution_count": 67,
     "metadata": {},
     "output_type": "execute_result"
    }
   ],
   "source": [
    "math.nonzero(product)"
   ]
  },
  {
   "cell_type": "markdown",
   "id": "96574ea5",
   "metadata": {},
   "source": [
    "- `bᵇ=2`: because batch is left untouched.\n",
    "- `nonzeroⁱ=(0, 11) along bᵇ`: under each batch, we have an instance-dimension called 'nonzero'. The shape of this dimension is (0,11) -> this means 0 entries along first batch, and 11 values along second batch. Notice that because of 0 vs 11, the sizes of instance dimensions along the batch dimension are different, so it's a *non-uniform tensor*.\n",
    "- `vectorᶜ=x,y`: under each entry of dimension 'nonzero' is a channel-dimension, called vector of size 2 with names 'x' and 'y'."
   ]
  },
  {
   "cell_type": "markdown",
   "id": "502d94b3",
   "metadata": {},
   "source": [
    "## Slicing Tensors\n",
    "\n",
    "#### Slicing thru spatial dimensions:"
   ]
  },
  {
   "cell_type": "code",
   "execution_count": 75,
   "id": "7c8512ea",
   "metadata": {},
   "outputs": [
    {
     "data": {
      "text/plain": [
       "\u001b[92m(bᵇ=2, yˢ=2, vectorᶜ=x,y)\u001b[0m \u001b[93mint64\u001b[0m  \u001b[94m0.125 ± 0.331\u001b[0m \u001b[37m(0e+00...1e+00)\u001b[0m"
      ]
     },
     "execution_count": 75,
     "metadata": {},
     "output_type": "execute_result"
    }
   ],
   "source": [
    "product[{'x' : 0}]"
   ]
  },
  {
   "cell_type": "code",
   "execution_count": 78,
   "id": "4d0cb49d",
   "metadata": {},
   "outputs": [
    {
     "name": "stdout",
     "output_type": "stream",
     "text": [
      "---\u001b[92m b=0, vector=x \u001b[0m---\n",
      " 0, 0\n",
      " 0, 0\n",
      "---\u001b[92m b=0, vector=y \u001b[0m---\n",
      " 0, 0\n",
      " 0, 0\n",
      "---\u001b[92m b=1, vector=x \u001b[0m---\n",
      " 1, 4\n",
      " 1, 4\n",
      "---\u001b[92m b=1, vector=y \u001b[0m---\n",
      " 1, 1\n",
      " 0, 0\n"
     ]
    }
   ],
   "source": [
    "math.print(product[{'x' : (1,4)}])"
   ]
  },
  {
   "cell_type": "code",
   "execution_count": 82,
   "id": "4489cd62",
   "metadata": {},
   "outputs": [
    {
     "name": "stdout",
     "output_type": "stream",
     "text": [
      "---\u001b[92m b=0, vector=x \u001b[0m---\n",
      " 0, 0, 0\n",
      " 0, 0, 0\n",
      "---\u001b[92m b=0, vector=y \u001b[0m---\n",
      " 0, 0, 0\n",
      " 0, 0, 0\n",
      "---\u001b[92m b=1, vector=x \u001b[0m---\n",
      " 1, 2, 3\n",
      " 1, 2, 3\n",
      "---\u001b[92m b=1, vector=y \u001b[0m---\n",
      " 1, 1, 1\n",
      " 0, 0, 0\n"
     ]
    }
   ],
   "source": [
    "p = product[{'x' :slice(1,4)}] # or product.x[1:4] \n",
    "math.print(p)"
   ]
  },
  {
   "cell_type": "code",
   "execution_count": 83,
   "id": "fa0e5614",
   "metadata": {},
   "outputs": [
    {
     "name": "stdout",
     "output_type": "stream",
     "text": [
      "---\u001b[92m b=0, vector=x \u001b[0m---\n",
      " 0, 0, 0\n",
      "---\u001b[92m b=0, vector=y \u001b[0m---\n",
      " 0, 0, 0\n",
      "---\u001b[92m b=1, vector=x \u001b[0m---\n",
      " 1, 2, 3\n",
      "---\u001b[92m b=1, vector=y \u001b[0m---\n",
      " 0, 0, 0\n"
     ]
    }
   ],
   "source": [
    "p = product.x[1:4].y[0]\n",
    "math.print(p)"
   ]
  },
  {
   "cell_type": "markdown",
   "id": "9ef22ed8",
   "metadata": {},
   "source": [
    "### Slicing thru channel dimensions"
   ]
  },
  {
   "cell_type": "code",
   "execution_count": 88,
   "id": "340ef2e9",
   "metadata": {},
   "outputs": [
    {
     "data": {
      "text/plain": [
       "\u001b[92m(bᵇ=2, xˢ=3)\u001b[0m \u001b[93mint64\u001b[0m  \u001b[94m0\u001b[0m, \u001b[94m0\u001b[0m, \u001b[94m0\u001b[0m, \u001b[94m1\u001b[0m, \u001b[94m2\u001b[0m, \u001b[94m3\u001b[0m"
      ]
     },
     "execution_count": 88,
     "metadata": {},
     "output_type": "execute_result"
    }
   ],
   "source": [
    "# selecting one channel\n",
    "product.x[1:4].y[0].vector['x']"
   ]
  },
  {
   "cell_type": "code",
   "execution_count": 90,
   "id": "4ea3abbd",
   "metadata": {},
   "outputs": [
    {
     "data": {
      "text/plain": [
       "\u001b[92m(bᵇ=2, xˢ=3, vectorᶜ=x,y)\u001b[0m \u001b[93mint64\u001b[0m  \u001b[94m0.500 ± 0.957\u001b[0m \u001b[37m(0e+00...3e+00)\u001b[0m"
      ]
     },
     "execution_count": 90,
     "metadata": {},
     "output_type": "execute_result"
    }
   ],
   "source": [
    "# selecting multiple channels\n",
    "product.x[1:4].y[0].vector['x','y']"
   ]
  },
  {
   "cell_type": "code",
   "execution_count": null,
   "id": "981b8ed9",
   "metadata": {},
   "outputs": [],
   "source": []
  },
  {
   "cell_type": "code",
   "execution_count": 91,
   "id": "a47fa844",
   "metadata": {},
   "outputs": [
    {
     "name": "stdout",
     "output_type": "stream",
     "text": [
      "\u001b[92m(bᵇ=2, yˢ=2, vectorᶜ=x,y)\u001b[0m \u001b[93mint64\u001b[0m  \u001b[94m0.125 ± 0.331\u001b[0m \u001b[37m(0e+00...1e+00)\u001b[0m\n",
      "\u001b[92m(bᵇ=2, yˢ=2, vectorᶜ=x,y)\u001b[0m \u001b[93mint64\u001b[0m  \u001b[94m0.375 ± 0.484\u001b[0m \u001b[37m(0e+00...1e+00)\u001b[0m\n",
      "\u001b[92m(bᵇ=2, yˢ=2, vectorᶜ=x,y)\u001b[0m \u001b[93mint64\u001b[0m  \u001b[94m0.625 ± 0.857\u001b[0m \u001b[37m(0e+00...2e+00)\u001b[0m\n",
      "\u001b[92m(bᵇ=2, yˢ=2, vectorᶜ=x,y)\u001b[0m \u001b[93mint64\u001b[0m  \u001b[94m0.875 ± 1.269\u001b[0m \u001b[37m(0e+00...3e+00)\u001b[0m\n",
      "\u001b[92m(bᵇ=2, yˢ=2, vectorᶜ=x,y)\u001b[0m \u001b[93mint64\u001b[0m  \u001b[94m1.125 ± 1.691\u001b[0m \u001b[37m(0e+00...4e+00)\u001b[0m\n",
      "\u001b[92m(bᵇ=2, yˢ=2, vectorᶜ=x,y)\u001b[0m \u001b[93mint64\u001b[0m  \u001b[94m1.375 ± 2.118\u001b[0m \u001b[37m(0e+00...5e+00)\u001b[0m\n"
     ]
    }
   ],
   "source": [
    "for col in product.x:\n",
    "    print(col)"
   ]
  },
  {
   "cell_type": "code",
   "execution_count": null,
   "id": "6cf9f73d",
   "metadata": {},
   "outputs": [],
   "source": []
  },
  {
   "cell_type": "code",
   "execution_count": 93,
   "id": "7858c18b",
   "metadata": {},
   "outputs": [
    {
     "name": "stdout",
     "output_type": "stream",
     "text": [
      "\u001b[92m(bᵇ=2, xˢ=6, yˢ=2)\u001b[0m \u001b[93mint64\u001b[0m  \u001b[94m1.250 ± 1.738\u001b[0m \u001b[37m(0e+00...5e+00)\u001b[0m\n",
      "\u001b[92m(bᵇ=2, xˢ=6, yˢ=2)\u001b[0m \u001b[93mint64\u001b[0m  \u001b[94m0.250 ± 0.433\u001b[0m \u001b[37m(0e+00...1e+00)\u001b[0m\n"
     ]
    }
   ],
   "source": [
    "x,y = product.vector\n",
    "print(x)\n",
    "print(y)"
   ]
  },
  {
   "cell_type": "markdown",
   "id": "ca01c61b",
   "metadata": {},
   "source": [
    "## Phi.math Geometry\n",
    "\n",
    "Creating objects like Spheres or Boxes in N dimensions.\n",
    "Coordinates are supplied as Tensors containing a vector dimension."
   ]
  },
  {
   "cell_type": "markdown",
   "id": "aaa289c2",
   "metadata": {},
   "source": [
    "### Sphere"
   ]
  },
  {
   "cell_type": "code",
   "execution_count": 69,
   "id": "464aed13",
   "metadata": {},
   "outputs": [
    {
     "data": {
      "text/plain": [
       "Sphere()"
      ]
     },
     "execution_count": 69,
     "metadata": {},
     "output_type": "execute_result"
    }
   ],
   "source": [
    "mysphere1 = Sphere(x=0, y=0, radius=1)\n",
    "mysphere1\n"
   ]
  },
  {
   "cell_type": "markdown",
   "id": "4ef4208a",
   "metadata": {},
   "source": [
    "### Combining shapes:\n",
    "\n",
    "#### Union"
   ]
  },
  {
   "cell_type": "code",
   "execution_count": 71,
   "id": "40ba7e00",
   "metadata": {},
   "outputs": [
    {
     "data": {
      "text/plain": [
       "Sphere(unionⁱ=2)"
      ]
     },
     "execution_count": 71,
     "metadata": {},
     "output_type": "execute_result"
    }
   ],
   "source": [
    "mysphere2 = Sphere(x=2, y=1, radius=0.7)\n",
    "g = union(mysphere1, mysphere2)\n",
    "g"
   ]
  },
  {
   "cell_type": "code",
   "execution_count": 72,
   "id": "f49896fb",
   "metadata": {},
   "outputs": [
    {
     "data": {
      "text/plain": [
       "\u001b[92m(unionⁱ=2, vectorᶜ=x,y)\u001b[0m \u001b[93mint64\u001b[0m  \u001b[94m0\u001b[0m, \u001b[94m0\u001b[0m, \u001b[94m2\u001b[0m, \u001b[94m1\u001b[0m"
      ]
     },
     "execution_count": 72,
     "metadata": {},
     "output_type": "execute_result"
    }
   ],
   "source": [
    "g.center"
   ]
  },
  {
   "cell_type": "markdown",
   "id": "267643d8",
   "metadata": {},
   "source": [
    "### Visualization"
   ]
  },
  {
   "cell_type": "code",
   "execution_count": 73,
   "id": "fc5dfda1",
   "metadata": {},
   "outputs": [
    {
     "data": {
      "image/png": "[encoded data removed]",
      "text/plain": [
       "<Figure size 864x360 with 1 Axes>"
      ]
     },
     "execution_count": 73,
     "metadata": {},
     "output_type": "execute_result"
    },
    {
     "data": {
      "text/plain": [
       "<Figure size 432x288 with 0 Axes>"
      ]
     },
     "metadata": {},
     "output_type": "display_data"
    }
   ],
   "source": [
    "vis.plot(g)"
   ]
  },
  {
   "cell_type": "markdown",
   "id": "6162611c",
   "metadata": {},
   "source": [
    "## Plotting"
   ]
  },
  {
   "cell_type": "code",
   "execution_count": 99,
   "id": "eb02d1f3",
   "metadata": {},
   "outputs": [
    {
     "data": {
      "text/plain": [
       "array([[0, 0],\n",
       "       [0, 0],\n",
       "       [0, 0],\n",
       "       [0, 0],\n",
       "       [0, 0],\n",
       "       [0, 0]])"
      ]
     },
     "execution_count": 99,
     "metadata": {},
     "output_type": "execute_result"
    }
   ],
   "source": [
    "x,y = product.vector\n",
    "# print(x.b[0].native())\n",
    "x.b[0].native('x,y')"
   ]
  },
  {
   "cell_type": "code",
   "execution_count": 100,
   "id": "53dfbd21",
   "metadata": {},
   "outputs": [
    {
     "data": {
      "text/plain": [
       "array([[0, 0],\n",
       "       [0, 0],\n",
       "       [0, 0],\n",
       "       [0, 0],\n",
       "       [0, 0],\n",
       "       [0, 0]])"
      ]
     },
     "execution_count": 100,
     "metadata": {},
     "output_type": "execute_result"
    }
   ],
   "source": [
    "x.b[1].numpy('x,y')"
   ]
  },
  {
   "cell_type": "code",
   "execution_count": 103,
   "id": "f4a77d04",
   "metadata": {},
   "outputs": [
    {
     "data": {
      "text/plain": [
       "<matplotlib.image.AxesImage at 0x7fd5abfb1bd0>"
      ]
     },
     "execution_count": 103,
     "metadata": {},
     "output_type": "execute_result"
    },
    {
     "data": {
      "image/png": "[encoded data removed]",
      "text/plain": [
       "<Figure size 432x288 with 1 Axes>"
      ]
     },
     "metadata": {
      "needs_background": "light"
     },
     "output_type": "display_data"
    }
   ],
   "source": [
    "import pylab\n",
    "pylab.imshow(x.b[1].numpy('y,x'))"
   ]
  },
  {
   "cell_type": "code",
   "execution_count": 104,
   "id": "76aeb933",
   "metadata": {},
   "outputs": [
    {
     "data": {
      "image/png": "[encoded data removed]",
      "text/plain": [
       "<Figure size 864x360 with 2 Axes>"
      ]
     },
     "execution_count": 104,
     "metadata": {},
     "output_type": "execute_result"
    },
    {
     "data": {
      "text/plain": [
       "<Figure size 432x288 with 0 Axes>"
      ]
     },
     "metadata": {},
     "output_type": "display_data"
    }
   ],
   "source": [
    "vis.plot(x.b[1])"
   ]
  },
  {
   "cell_type": "markdown",
   "id": "026d82b4",
   "metadata": {},
   "source": [
    "if you want to use very customised plots, you'll have to use matplotlib."
   ]
  },
  {
   "cell_type": "markdown",
   "id": "d2fbb8c4",
   "metadata": {},
   "source": [
    "## Change default precision in phiflow"
   ]
  },
  {
   "cell_type": "code",
   "execution_count": 105,
   "id": "2517effb",
   "metadata": {},
   "outputs": [],
   "source": [
    "math.set_global_precision(64)"
   ]
  },
  {
   "cell_type": "code",
   "execution_count": 106,
   "id": "da1461fa",
   "metadata": {},
   "outputs": [
    {
     "data": {
      "text/plain": [
       "float64"
      ]
     },
     "execution_count": 106,
     "metadata": {},
     "output_type": "execute_result"
    }
   ],
   "source": [
    "tensor(1.).dtype"
   ]
  },
  {
   "cell_type": "markdown",
   "id": "3ce64ac4",
   "metadata": {},
   "source": [
    "now all floating point datatypes will be cast to float 64"
   ]
  },
  {
   "cell_type": "markdown",
   "id": "d769ce3d",
   "metadata": {},
   "source": [
    "# Example: solar system simulation\n",
    "\n",
    "goto planets_tutorial notebook"
   ]
  }
 ],
 "metadata": {
  "kernelspec": {
   "display_name": "Python 3 (ipykernel)",
   "language": "python",
   "name": "python3"
  },
  "language_info": {
   "codemirror_mode": {
    "name": "ipython",
    "version": 3
   },
   "file_extension": ".py",
   "mimetype": "text/x-python",
   "name": "python",
   "nbconvert_exporter": "python",
   "pygments_lexer": "ipython3",
   "version": "3.10.4"
  }
 },
 "nbformat": 4,
 "nbformat_minor": 5
}
