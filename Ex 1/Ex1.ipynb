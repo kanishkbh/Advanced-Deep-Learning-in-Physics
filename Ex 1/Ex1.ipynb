{
 "cells": [
  {
   "cell_type": "markdown",
   "id": "6db04700",
   "metadata": {},
   "source": [
    "# Exercise 1: Sphere Packing\n",
    "Kanishk Bhatia | \n",
    "Matrikelnummer: 03739535"
   ]
  },
  {
   "cell_type": "code",
   "execution_count": 1,
   "id": "aade6d34",
   "metadata": {},
   "outputs": [],
   "source": [
    "# from phi.flow import *\n",
    "from phi.torch.flow import *\n",
    "math.set_global_precision(64)"
   ]
  },
  {
   "cell_type": "markdown",
   "id": "2ea80b9a",
   "metadata": {},
   "source": [
    "## (a) Setup"
   ]
  },
  {
   "cell_type": "markdown",
   "id": "2e86bb5c",
   "metadata": {},
   "source": [
    "### Create Spheres"
   ]
  },
  {
   "cell_type": "code",
   "execution_count": 60,
   "id": "2a2fc4fd",
   "metadata": {},
   "outputs": [],
   "source": [
    "n_particles = 6 \n",
    "radius_1 = 1.0\n",
    "radius_2 = 0.7\n",
    "\n",
    "space_low = 0\n",
    "space_high = 55\n",
    "\n",
    "eps=0.000001"
   ]
  },
  {
   "cell_type": "code",
   "execution_count": 16,
   "id": "af1ff375",
   "metadata": {},
   "outputs": [
    {
     "data": {
      "text/plain": [
       "\u001b[92m(particlesⁱ=6, vectorᶜ=x,y)\u001b[0m \u001b[93mfloat64\u001b[0m  \u001b[94m26.553 ± 18.171\u001b[0m \u001b[37m(1e+00...5e+01)\u001b[0m"
      ]
     },
     "execution_count": 16,
     "metadata": {},
     "output_type": "execute_result"
    }
   ],
   "source": [
    "samples = numpy.random.uniform(low=space_low, high=space_high, size=([n_particles,2]))\n",
    "x = math.tensor(samples, instance('particles'), channel(vector='x,y'))\n",
    "x\n",
    "# radii = numpy.full(([n_particles,1]), radius_1)\n",
    "# radii[int(n_particles/2):] = radius_2\n",
    "# samples = np.append(samples, radii, axis=1)\n",
    "# x = math.tensor(samples, instance('particles'), channel(vector='x,y,radius'))"
   ]
  },
  {
   "cell_type": "code",
   "execution_count": 17,
   "id": "4a03c741",
   "metadata": {},
   "outputs": [],
   "source": [
    "# vis.plot( PointCloud(Sphere(x.vector['x','y'], radius=x.vector['radius']), bounds=Box(x=(space_low, space_high),y=(space_low, space_high))))"
   ]
  },
  {
   "cell_type": "code",
   "execution_count": 18,
   "id": "e844e407",
   "metadata": {},
   "outputs": [
    {
     "data": {
      "text/plain": [
       "(\u001b[94m1.0\u001b[0m, \u001b[94m1.0\u001b[0m, \u001b[94m1.0\u001b[0m, \u001b[94m0.7\u001b[0m, \u001b[94m0.7\u001b[0m, \u001b[94m0.7\u001b[0m) along \u001b[92mparticlesⁱ\u001b[0m"
      ]
     },
     "execution_count": 18,
     "metadata": {},
     "output_type": "execute_result"
    }
   ],
   "source": [
    "radii = [1]*int(n_particles/2) + [0.7]*int(n_particles/2)\n",
    "radii_tensor = math.stack(radii, instance('particles'))\n",
    "radii_tensor"
   ]
  },
  {
   "cell_type": "code",
   "execution_count": 19,
   "id": "c166a46b",
   "metadata": {},
   "outputs": [
    {
     "data": {
      "image/png": "[encoded data removed]",
      "text/plain": [
       "<Figure size 864x360 with 1 Axes>"
      ]
     },
     "execution_count": 19,
     "metadata": {},
     "output_type": "execute_result"
    },
    {
     "data": {
      "text/plain": [
       "<Figure size 432x288 with 0 Axes>"
      ]
     },
     "metadata": {},
     "output_type": "display_data"
    }
   ],
   "source": [
    "vis.plot( PointCloud(Sphere(x, radius=radii_tensor, bounds=Box(x=(space_low, space_high),y=(space_low, space_high)))))"
   ]
  },
  {
   "cell_type": "markdown",
   "id": "2943df7b",
   "metadata": {},
   "source": [
    "## (b) Energy Function\n",
    "\n",
    "#### Overlap\n",
    "For each particle\n",
    "$ overlap_{self,other} = r_{self} + r_{other} - distance_{self,other} = r_{self+other} - distance_{self,other} $\n",
    "\n",
    "#### Energy function\n",
    "$ E = 0 $                   for overlap < 0\n",
    "\n",
    "$ E = C.overlap^2 $         otherwise (some constant C)\n",
    "\n",
    "distance ```dx = x - math.rename_dims(x, ’particles’, ’others’)```"
   ]
  },
  {
   "cell_type": "code",
   "execution_count": 78,
   "id": "e205fc39",
   "metadata": {},
   "outputs": [
    {
     "name": "stdout",
     "output_type": "stream",
     "text": [
      "Energy Tensor:\n",
      "\u001b[92m(particlesⁱ=6, iⁱ=6)\u001b[0m\n",
      "[[1.e-06, 0.e+00, 0.e+00, 0.e+00, 0.e+00, 0.e+00],\n",
      " [0.e+00, 1.e-06, 0.e+00, 0.e+00, 0.e+00, 0.e+00],\n",
      " [0.e+00, 0.e+00, 1.e-06, 0.e+00, 0.e+00, 0.e+00],\n",
      " [0.e+00, 0.e+00, 0.e+00, 1.e-06, 0.e+00, 0.e+00],\n",
      " [0.e+00, 0.e+00, 0.e+00, 0.e+00, 1.e-06, 0.e+00],\n",
      " [0.e+00, 0.e+00, 0.e+00, 0.e+00, 0.e+00, 1.e-06]]\n"
     ]
    }
   ],
   "source": [
    "def calculate_energy(x, radii_tensor):\n",
    "    '''\n",
    "    Calculate energy of each particle vs another particle.\n",
    "    Return an N by N matrix\n",
    "    \n",
    "    Args:\n",
    "        x: Tensor containing particle positions (instances, vector)\n",
    "        radii_tensor: tensor containing particle radii \n",
    "    \n",
    "    '''\n",
    "    r = x - math.rename_dims(x, 'particles', 'i')\n",
    "    distances = math.vec_length(r, eps=eps) # using an epsilon to avoid zero on diagonals... in order to avoid inf gradients later\n",
    "    # print('distances:')\n",
    "    # math.print(distances)\n",
    "    radii_sums = radii_tensor + math.rename_dims(radii_tensor, 'particles', 'i')\n",
    "    # print('sum of radii:')\n",
    "    # math.print(radii_sums)\n",
    "    overlaps = radii_sums - distances\n",
    "    overlaps = math.where(overlaps>=0, overlaps, 0) # set negative overlaps to zero\n",
    "    # print('overlaps: ')\n",
    "    # math.print(overlaps)\n",
    "\n",
    "    C = 0.1 # nach deiner Wahl\n",
    "    Energy_tensor = C * overlaps * overlaps\n",
    "\n",
    "    # Set diagonal energy to zero(eps)\n",
    "    Energy_numpy = Energy_tensor.numpy('particles,i')\n",
    "    np.fill_diagonal(Energy_numpy, eps)\n",
    "    Energy_tensor = tensor(Energy_numpy, Energy_tensor.shape)\n",
    "    print(\"Energy Tensor:\")\n",
    "    math.print(Energy_tensor)\n",
    "    return Energy_tensor\n",
    "\n",
    "Energy_tensor = calculate_energy()"
   ]
  },
  {
   "cell_type": "markdown",
   "id": "23bac05d",
   "metadata": {},
   "source": [
    "## (c) "
   ]
  }
 ],
 "metadata": {
  "kernelspec": {
   "display_name": "Python 3 (ipykernel)",
   "language": "python",
   "name": "python3"
  },
  "language_info": {
   "codemirror_mode": {
    "name": "ipython",
    "version": 3
   },
   "file_extension": ".py",
   "mimetype": "text/x-python",
   "name": "python",
   "nbconvert_exporter": "python",
   "pygments_lexer": "ipython3",
   "version": "3.10.4"
  }
 },
 "nbformat": 4,
 "nbformat_minor": 5
}
