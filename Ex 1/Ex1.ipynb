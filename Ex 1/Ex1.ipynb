{
 "cells": [
  {
   "cell_type": "markdown",
   "id": "6db04700",
   "metadata": {},
   "source": [
    "# Exercise 1: Sphere Packing\n",
    "Kanishk Bhatia | \n",
    "Matrikelnummer: 03739535"
   ]
  },
  {
   "cell_type": "code",
   "execution_count": 1,
   "id": "aade6d34",
   "metadata": {},
   "outputs": [],
   "source": [
    "# from phi.flow import *\n",
    "from phi.torch.flow import *\n",
    "# from phi.tf.flow import *\n",
    "import matplotlib.pyplot as plt\n",
    "\n",
    "math.set_global_precision(64)"
   ]
  },
  {
   "cell_type": "markdown",
   "id": "2ea80b9a",
   "metadata": {},
   "source": [
    "## (a) Setup"
   ]
  },
  {
   "cell_type": "markdown",
   "id": "8caeb4df",
   "metadata": {},
   "source": [
    "### Constants"
   ]
  },
  {
   "cell_type": "code",
   "execution_count": 97,
   "id": "2a2fc4fd",
   "metadata": {},
   "outputs": [],
   "source": [
    "eps=0.000001"
   ]
  },
  {
   "cell_type": "markdown",
   "id": "2e86bb5c",
   "metadata": {},
   "source": [
    "### Spheres sampling function"
   ]
  },
  {
   "cell_type": "code",
   "execution_count": 100,
   "id": "af1ff375",
   "metadata": {},
   "outputs": [],
   "source": [
    "def generate_spheres(n_particles, space_low, space_high):\n",
    "    radius_1 = 1.0\n",
    "    radius_2 = 0.7\n",
    "\n",
    "    samples = numpy.random.uniform(low=space_low, high=space_high, size=([n_particles,2]))\n",
    "    x = math.tensor(samples, instance('particles'), channel(vector='x,y'))\n",
    "\n",
    "    # radii = numpy.full(([n_particles,1]), radius_1)\n",
    "    # radii[int(n_particles/2):] = radius_2\n",
    "    # samples = np.append(samples, radii, axis=1)\n",
    "    # x = math.tensor(samples, instance('particles'), channel(vector='x,y,radius'))\n",
    "    # vis.plot( PointCloud(Sphere(x.vector['x','y'], radius=x.vector['radius']), bounds=Box(x=(space_low, space_high),y=(space_low, space_high))))\n",
    "\n",
    "    radii = [1]*int(n_particles/2) + [0.7]*int(n_particles/2)\n",
    "    radii_tensor = math.stack(radii, instance('particles'))\n",
    "    \n",
    "    return x, radii_tensor"
   ]
  },
  {
   "cell_type": "code",
   "execution_count": 63,
   "id": "45051d56",
   "metadata": {},
   "outputs": [],
   "source": [
    "# x_this\n",
    "# x = x_this\n",
    "# vis.plot( PointCloud(Sphere(x, radius=radii_tensor*np.sqrt(2), bounds=Box(x=(space_low, space_high),y=(space_low, space_high)))), lib='matplotlib')"
   ]
  },
  {
   "cell_type": "markdown",
   "id": "b4f88db7",
   "metadata": {},
   "source": [
    "## (b) Energy Function\n",
    "\n",
    "#### Overlap\n",
    "For each particle\n",
    "$ overlap_{self,other} = r_{self} + r_{other} - distance_{self,other} = r_{self+other} - distance_{self,other} $\n",
    "\n",
    "#### Energy function\n",
    "$ E = 0 $                   for overlap < 0\n",
    "\n",
    "$ E = C.overlap^2 $         otherwise (some constant C)\n",
    "\n",
    "distance ```dx = x - math.rename_dims(x, ’particles’, ’others’)```"
   ]
  },
  {
   "cell_type": "code",
   "execution_count": 64,
   "id": "79d92a69",
   "metadata": {},
   "outputs": [],
   "source": [
    "def calculate_energy(x, radii_tensor):\n",
    "    '''\n",
    "    Calculate energy of each particle vs another particle.\n",
    "    Return an N by N matrix\n",
    "    \n",
    "    Args:\n",
    "        x: Tensor containing particle positions (instances, vector)\n",
    "        radii_tensor: tensor containing particle radii (instances)\n",
    "    \n",
    "    '''\n",
    "    r = x - math.rename_dims(x, 'particles', 'i')\n",
    "    distances = math.vec_length(r, eps=eps) # using an epsilon to avoid zero on diagonals... in order to avoid inf gradients later\n",
    "#     print('distances computed.')\n",
    "#     math.print(distances)\n",
    "    radii_sums = radii_tensor + math.rename_dims(radii_tensor, 'particles', 'i')\n",
    "    # print('sum of radii:')\n",
    "    # math.print(radii_sums)\n",
    "    overlaps = radii_sums - distances\n",
    "    overlaps = math.where(overlaps>=0, overlaps, 0) # set negative overlaps to zero\n",
    "#     print('overlaps computed. ')\n",
    "#     math.print(overlaps)\n",
    "\n",
    "    C = 1.0 # nach deiner Wahl\n",
    "    Energy_tensor = C * overlaps * overlaps\n",
    "\n",
    "    # Set diagonal energy to eps\n",
    "#     Energy_numpy = Energy_tensor.numpy('particles,i')\n",
    "#     np.fill_diagonal(Energy_numpy, eps)\n",
    "#     Energy_tensor = tensor(Energy_numpy, Energy_tensor.shape)\n",
    "    \n",
    "#     Energy_tensor = \n",
    "    \n",
    "#     print(\"Energy Tensor computed.\")\n",
    "#     math.print(Energy_tensor)\n",
    "    \n",
    "    # Sum of all particle-particle energies except self-self (sum the lower triangle)\n",
    "#     total_energy = 0.0\n",
    "#     for row in range(0, Energy_tensor.particles.size):\n",
    "#         for col in range(0, row):\n",
    "#             total_energy += Energy_tensor.particles[row].i[col].numpy()\n",
    "#     return total_energy\n",
    "    return Energy_tensor\n",
    "\n",
    "# Energy_tensor = calculate_energy(x, radii_tensor)\n",
    "# math.print(Energy_tensor)\n",
    "# system_energy = calculate_energy(x, radii_tensor)\n",
    "# print('total system energy = ', system_energy)"
   ]
  },
  {
   "cell_type": "markdown",
   "id": "3aecb757",
   "metadata": {},
   "source": [
    "## (c) Gradient Descent Optimization"
   ]
  },
  {
   "cell_type": "code",
   "execution_count": 65,
   "id": "7bbb9832",
   "metadata": {},
   "outputs": [],
   "source": [
    "def apply_boundary_condition(x, box_low, box_high):\n",
    "    x = math.where(x <= box_high, x, box_low + x-box_high)  # TOP and RIGHT boundary\n",
    "    x = math.where(x >= box_low,  x, box_high+x)            # BOTTOM and LEFT boundary\n",
    "    x = math.where(x <= box_high, x, box_low + x-box_high)  # once more for sanity\n",
    "    x = math.where(x >= box_low,  x, box_high+x)            # once more for sanity\n",
    "    return x\n",
    "# x = apply_boundary_condition(x, space_low, space_high)\n",
    "# math.print(x)"
   ]
  },
  {
   "cell_type": "code",
   "execution_count": 104,
   "id": "bbd73b93",
   "metadata": {},
   "outputs": [],
   "source": [
    "def my_gradient_descent(x, radii_tensor, descent_rate, tolerance, max_iter):\n",
    "#     x_list = []\n",
    "#     energy_list = []\n",
    "    for iter_count in range(0, max_iter):\n",
    "        \n",
    "        print('iteration: ', iter_count)\n",
    "        '''\n",
    "        energy = calculate_energy(x, radii_tensor)\n",
    "        math.print(math.l2_loss(energy))\n",
    "        dx, = math.functional_gradient(calculate_energy, get_output=False)(x, radii_tensor)\n",
    "        update = -0.1 * dx\n",
    "        x = x + update\n",
    "\n",
    "        energy = calculate_energy(x, radii_tensor)\n",
    "        math.print(math.l2_loss(energy))\n",
    "        '''\n",
    "        \n",
    "#         energy = calculate_energy(x, radii_tensor)\n",
    "#         math.print(math.l2_loss(energy))\n",
    "        dx, = math.functional_gradient(calculate_energy, get_output=False)(x, radii_tensor)\n",
    "        \n",
    "#         print('iteration: ',iter_count)\n",
    "#         print('x = ' )\n",
    "#         math.print(x)\n",
    "#         print('dx = ' )\n",
    "#         math.print(dx)\n",
    "        \n",
    "        update = -0.1 * dx\n",
    "        residual = math.l2_loss(update)\n",
    "        if residual.numpy() < tolerance:\n",
    "            break;\n",
    "\n",
    "        x = x + update\n",
    "    \n",
    "        x = apply_boundary_condition(x, space_low, space_high)\n",
    "        \n",
    "#         energy = calculate_energy(x, radii_tensor)\n",
    "#         math.print(math.l2_loss(energy))\n",
    "\n",
    "#         x_list.append(x)\n",
    "        \n",
    "#         energy = calculate_energy(x, radii_tensor)\n",
    "#         energy_list.append(math.l2_loss(energy))\n",
    "    \n",
    "#     return x, energy_list, iter_count+1\n",
    "    return x, iter_count+1\n"
   ]
  },
  {
   "cell_type": "markdown",
   "id": "bb5ee6be",
   "metadata": {},
   "source": [
    "### For testing GD"
   ]
  },
  {
   "cell_type": "code",
   "execution_count": 75,
   "id": "b81e9b22",
   "metadata": {},
   "outputs": [],
   "source": [
    "# energy = calculate_energy(x, radii_tensor)\n",
    "# math.print(math.l2_loss(energy))\n",
    "# dx, = math.functional_gradient(calculate_energy, get_output=False)(x, radii_tensor)\n",
    "# update = -0.1 * dx\n",
    "# x = x + update\n",
    "\n",
    "# energy = calculate_energy(x, radii_tensor)\n",
    "# math.print(math.l2_loss(energy))"
   ]
  },
  {
   "cell_type": "code",
   "execution_count": 76,
   "id": "33718748",
   "metadata": {},
   "outputs": [],
   "source": [
    "# vis.plot( PointCloud(Sphere(x, radius=radii_tensor*np.sqrt(2), bounds=Box(x=(space_low, space_high),y=(space_low, space_high)))), lib='matplotlib')"
   ]
  },
  {
   "cell_type": "code",
   "execution_count": 77,
   "id": "0e554491",
   "metadata": {},
   "outputs": [],
   "source": [
    "# x = apply_boundary_condition(x, space_low, space_high)\n",
    "# energy = calculate_energy(x, radii_tensor)\n",
    "# math.print(math.l2_loss(energy))"
   ]
  },
  {
   "cell_type": "code",
   "execution_count": 78,
   "id": "59c9c02b",
   "metadata": {},
   "outputs": [],
   "source": [
    "# vis.plot( PointCloud(Sphere(x, radius=radii_tensor*np.sqrt(2), bounds=Box(x=(space_low, space_high),y=(space_low, space_high)))), lib='matplotlib')"
   ]
  },
  {
   "cell_type": "code",
   "execution_count": 79,
   "id": "8a69cebd",
   "metadata": {},
   "outputs": [],
   "source": [
    "# energy,dx = math.functional_gradient(calculate_energy)(x, radii_tensor)\n",
    "# dx = dx[0]\n",
    "# type(dx)"
   ]
  },
  {
   "cell_type": "markdown",
   "id": "0646153f",
   "metadata": {},
   "source": [
    "## Perform Gradient Descent"
   ]
  },
  {
   "cell_type": "code",
   "execution_count": 102,
   "id": "fbe3ccbf",
   "metadata": {},
   "outputs": [
    {
     "data": {
      "image/png": "[encoded data removed]",
      "text/plain": [
       "<Figure size 864x360 with 1 Axes>"
      ]
     },
     "execution_count": 102,
     "metadata": {},
     "output_type": "execute_result"
    },
    {
     "data": {
      "text/plain": [
       "<Figure size 432x288 with 0 Axes>"
      ]
     },
     "metadata": {},
     "output_type": "display_data"
    }
   ],
   "source": [
    "# Sampling\n",
    "n_particles = 8\n",
    "space_low = 0\n",
    "space_high = 5\n",
    "x, radii_tensor = generate_spheres(n_particles, space_low, space_high)\n",
    "\n",
    "vis.plot( PointCloud(Sphere(x, radius=radii_tensor*np.sqrt(2), bounds=Box(x=(space_low, space_high),y=(space_low, space_high)))), lib='matplotlib')"
   ]
  },
  {
   "cell_type": "code",
   "execution_count": 107,
   "id": "b8278446",
   "metadata": {},
   "outputs": [
    {
     "name": "stdout",
     "output_type": "stream",
     "text": [
      "iteration:  0\n",
      "iteration:  1\n",
      "iteration:  2\n",
      "iteration:  3\n",
      "Number of GD iterations:  4\n"
     ]
    }
   ],
   "source": [
    "# Perform GD\n",
    "descent_rate = 0.1\n",
    "max_iter = 50\n",
    "tolerance = 0.001\n",
    "x, iter_count = my_gradient_descent(x, radii_tensor, descent_rate, tolerance, max_iter)\n",
    "# math.print(x)\n",
    "print(\"Number of GD iterations: \", iter_count)"
   ]
  },
  {
   "cell_type": "markdown",
   "id": "e9059a19",
   "metadata": {},
   "source": [
    "### Final packing"
   ]
  },
  {
   "cell_type": "code",
   "execution_count": 108,
   "id": "ebc315ae",
   "metadata": {},
   "outputs": [
    {
     "data": {
      "image/png": "[encoded data removed]",
      "text/plain": [
       "<Figure size 864x360 with 1 Axes>"
      ]
     },
     "execution_count": 108,
     "metadata": {},
     "output_type": "execute_result"
    },
    {
     "data": {
      "text/plain": [
       "<Figure size 432x288 with 0 Axes>"
      ]
     },
     "metadata": {},
     "output_type": "display_data"
    }
   ],
   "source": [
    "# x_batches = math.stack(x_list, batch('time'))\n",
    "# x_final = x_list[-1]\n",
    "vis.plot( PointCloud(Sphere(x, radius=radii_tensor*np.sqrt(2), bounds=Box(x=(space_low, space_high),y=(space_low, space_high)))), lib='matplotlib')"
   ]
  },
  {
   "cell_type": "code",
   "execution_count": 90,
   "id": "2b4e90d8",
   "metadata": {},
   "outputs": [
    {
     "data": {
      "text/plain": [
       "[\u001b[94m39.59731949334845\u001b[0m]"
      ]
     },
     "execution_count": 90,
     "metadata": {},
     "output_type": "execute_result"
    }
   ],
   "source": [
    "energy_list\n",
    "# plt.plot(energy_list)"
   ]
  },
  {
   "cell_type": "code",
   "execution_count": null,
   "id": "7669ee0e",
   "metadata": {},
   "outputs": [],
   "source": []
  }
 ],
 "metadata": {
  "kernelspec": {
   "display_name": "Python 3 (ipykernel)",
   "language": "python",
   "name": "python3"
  },
  "language_info": {
   "codemirror_mode": {
    "name": "ipython",
    "version": 3
   },
   "file_extension": ".py",
   "mimetype": "text/x-python",
   "name": "python",
   "nbconvert_exporter": "python",
   "pygments_lexer": "ipython3",
   "version": "3.10.4"
  }
 },
 "nbformat": 4,
 "nbformat_minor": 5
}
